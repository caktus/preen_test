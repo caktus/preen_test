{
 "cells": [
  {
   "cell_type": "code",
   "execution_count": 1,
   "id": "587ca30f",
   "metadata": {},
   "outputs": [],
   "source": [
    "import os\n",
    "import django\n",
    "os.environ.setdefault('DJANGO_SETTINGS_MODULE', 'preen_test.settings')\n",
    "os.environ[\"DJANGO_ALLOW_ASYNC_UNSAFE\"] = \"true\"\n",
    "django.setup()"
   ]
  },
  {
   "cell_type": "code",
   "execution_count": 2,
   "id": "3882d209",
   "metadata": {},
   "outputs": [],
   "source": [
    "from rich.jupyter import print\n",
    "from preen import block\n",
    "from apps.preen_test.blocks import atoms, blocks"
   ]
  },
  {
   "cell_type": "code",
   "execution_count": 4,
   "id": "65b34005",
   "metadata": {},
   "outputs": [
    {
     "data": {
      "text/html": [
       "<pre style=\"white-space:pre;overflow-x:auto;line-height:normal;font-family:Menlo,'DejaVu Sans Mono',consolas,'Courier New',monospace\"><span style=\"font-weight: bold\">{</span>\n",
       "    <span style=\"color: #008000; text-decoration-color: #008000\">'ImageChooserBlock'</span>: <span style=\"font-weight: bold\">&lt;</span><span style=\"color: #ff00ff; text-decoration-color: #ff00ff; font-weight: bold\">wagtail.images.blocks.ImageChooserBlock</span><span style=\"color: #000000; text-decoration-color: #000000\"> object at </span><span style=\"color: #008080; text-decoration-color: #008080; font-weight: bold\">0x7f9356f53f10</span><span style=\"font-weight: bold\">&gt;</span>,\n",
       "    <span style=\"color: #008000; text-decoration-color: #008000\">'DocumentChooserBlock'</span>: <span style=\"font-weight: bold\">&lt;</span><span style=\"color: #ff00ff; text-decoration-color: #ff00ff; font-weight: bold\">wagtail.documents.blocks.DocumentChooserBlock</span><span style=\"color: #000000; text-decoration-color: #000000\"> object at </span>\n",
       "<span style=\"color: #008080; text-decoration-color: #008080; font-weight: bold\">0x7f9356f442b0</span><span style=\"font-weight: bold\">&gt;</span>,\n",
       "    <span style=\"color: #008000; text-decoration-color: #008000\">'PageChooserBlock'</span>: <span style=\"font-weight: bold\">&lt;</span><span style=\"color: #ff00ff; text-decoration-color: #ff00ff; font-weight: bold\">wagtail.core.blocks.field_block.PageChooserBlock</span><span style=\"color: #000000; text-decoration-color: #000000\"> object at </span>\n",
       "<span style=\"color: #008080; text-decoration-color: #008080; font-weight: bold\">0x7f9356f44310</span><span style=\"font-weight: bold\">&gt;</span>,\n",
       "    <span style=\"color: #008000; text-decoration-color: #008000\">'ChoiceBlock'</span>: <span style=\"font-weight: bold\">&lt;</span><span style=\"color: #ff00ff; text-decoration-color: #ff00ff; font-weight: bold\">wagtail.core.blocks.field_block.ChoiceBlock</span><span style=\"color: #000000; text-decoration-color: #000000\"> object at </span><span style=\"color: #008080; text-decoration-color: #008080; font-weight: bold\">0x7f9356f44490</span><span style=\"font-weight: bold\">&gt;</span>,\n",
       "    <span style=\"color: #008000; text-decoration-color: #008000\">'lists'</span>: <span style=\"font-weight: bold\">{</span><span style=\"color: #008000; text-decoration-color: #008000\">'NoneType'</span>: <span style=\"color: #800080; text-decoration-color: #800080; font-style: italic\">None</span><span style=\"font-weight: bold\">}</span>,\n",
       "    <span style=\"color: #008000; text-decoration-color: #008000\">'tiles'</span>: <span style=\"font-weight: bold\">[</span>\n",
       "        <span style=\"font-weight: bold\">{</span>\n",
       "            <span style=\"color: #008000; text-decoration-color: #008000\">'type'</span>: <span style=\"color: #008000; text-decoration-color: #008000\">'tile'</span>,\n",
       "            <span style=\"color: #008000; text-decoration-color: #008000\">'value'</span>: <span style=\"font-weight: bold\">{</span>\n",
       "                <span style=\"color: #008000; text-decoration-color: #008000\">'ImageChooserBlock'</span>: <span style=\"font-weight: bold\">&lt;</span><span style=\"color: #ff00ff; text-decoration-color: #ff00ff; font-weight: bold\">wagtail.images.blocks.ImageChooserBlock</span><span style=\"color: #000000; text-decoration-color: #000000\"> object at </span>\n",
       "<span style=\"color: #008080; text-decoration-color: #008080; font-weight: bold\">0x7f9356f53be0</span><span style=\"font-weight: bold\">&gt;</span>,\n",
       "                <span style=\"color: #008000; text-decoration-color: #008000\">'TextBlock'</span>: <span style=\"font-weight: bold\">&lt;</span><span style=\"color: #ff00ff; text-decoration-color: #ff00ff; font-weight: bold\">wagtail.core.blocks.field_block.TextBlock</span><span style=\"color: #000000; text-decoration-color: #000000\"> object at </span>\n",
       "<span style=\"color: #008080; text-decoration-color: #008080; font-weight: bold\">0x7f9356f53af0</span><span style=\"font-weight: bold\">&gt;</span>,\n",
       "                <span style=\"color: #008000; text-decoration-color: #008000\">'RichTextBlock'</span>: <span style=\"font-weight: bold\">&lt;</span><span style=\"color: #ff00ff; text-decoration-color: #ff00ff; font-weight: bold\">wagtail.core.blocks.field_block.RichTextBlock</span><span style=\"color: #000000; text-decoration-color: #000000\"> object at </span>\n",
       "<span style=\"color: #008080; text-decoration-color: #008080; font-weight: bold\">0x7f9356f53b80</span><span style=\"font-weight: bold\">&gt;</span>,\n",
       "                <span style=\"color: #008000; text-decoration-color: #008000\">'link'</span>: <span style=\"font-weight: bold\">{</span>\n",
       "                    <span style=\"color: #008000; text-decoration-color: #008000\">'PageChooserBlock'</span>: <span style=\"font-weight: bold\">&lt;</span><span style=\"color: #ff00ff; text-decoration-color: #ff00ff; font-weight: bold\">wagtail.core.blocks.field_block.PageChooserBlock</span><span style=\"color: #000000; text-decoration-color: #000000\"> </span>\n",
       "<span style=\"color: #000000; text-decoration-color: #000000\">object at </span><span style=\"color: #008080; text-decoration-color: #008080; font-weight: bold\">0x7f9356f457c0</span><span style=\"font-weight: bold\">&gt;</span>,\n",
       "                    <span style=\"color: #008000; text-decoration-color: #008000\">'DocumentChooserBlock'</span>: <span style=\"font-weight: bold\">&lt;</span><span style=\"color: #ff00ff; text-decoration-color: #ff00ff; font-weight: bold\">wagtail.documents.blocks.DocumentChooserBlock</span><span style=\"color: #000000; text-decoration-color: #000000\"> </span>\n",
       "<span style=\"color: #000000; text-decoration-color: #000000\">object at </span><span style=\"color: #008080; text-decoration-color: #008080; font-weight: bold\">0x7f9356f45850</span><span style=\"font-weight: bold\">&gt;</span>,\n",
       "                    <span style=\"color: #008000; text-decoration-color: #008000\">'URLBlock'</span>: <span style=\"font-weight: bold\">&lt;</span><span style=\"color: #ff00ff; text-decoration-color: #ff00ff; font-weight: bold\">wagtail.core.blocks.field_block.URLBlock</span><span style=\"color: #000000; text-decoration-color: #000000\"> object at </span>\n",
       "<span style=\"color: #008080; text-decoration-color: #008080; font-weight: bold\">0x7f9356f45880</span><span style=\"font-weight: bold\">&gt;</span>\n",
       "                <span style=\"font-weight: bold\">}</span>\n",
       "            <span style=\"font-weight: bold\">}</span>\n",
       "        <span style=\"font-weight: bold\">}</span>,\n",
       "        <span style=\"font-weight: bold\">{</span>\n",
       "            <span style=\"color: #008000; text-decoration-color: #008000\">'type'</span>: <span style=\"color: #008000; text-decoration-color: #008000\">'fooblock'</span>,\n",
       "            <span style=\"color: #008000; text-decoration-color: #008000\">'value'</span>: <span style=\"font-weight: bold\">{</span>\n",
       "                <span style=\"color: #008000; text-decoration-color: #008000\">'ImageChooserBlock'</span>: <span style=\"font-weight: bold\">&lt;</span><span style=\"color: #ff00ff; text-decoration-color: #ff00ff; font-weight: bold\">wagtail.images.blocks.ImageChooserBlock</span><span style=\"color: #000000; text-decoration-color: #000000\"> object at </span>\n",
       "<span style=\"color: #008080; text-decoration-color: #008080; font-weight: bold\">0x7f9356f47580</span><span style=\"font-weight: bold\">&gt;</span>,\n",
       "                <span style=\"color: #008000; text-decoration-color: #008000\">'RawHTMLBlock'</span>: <span style=\"font-weight: bold\">&lt;</span><span style=\"color: #ff00ff; text-decoration-color: #ff00ff; font-weight: bold\">wagtail.core.blocks.field_block.RawHTMLBlock</span><span style=\"color: #000000; text-decoration-color: #000000\"> object at </span>\n",
       "<span style=\"color: #008080; text-decoration-color: #008080; font-weight: bold\">0x7f9356f45be0</span><span style=\"font-weight: bold\">&gt;</span>,\n",
       "                <span style=\"color: #008000; text-decoration-color: #008000\">'CharBlock'</span>: <span style=\"font-weight: bold\">&lt;</span><span style=\"color: #ff00ff; text-decoration-color: #ff00ff; font-weight: bold\">wagtail.core.blocks.field_block.CharBlock</span><span style=\"color: #000000; text-decoration-color: #000000\"> object at </span>\n",
       "<span style=\"color: #008080; text-decoration-color: #008080; font-weight: bold\">0x7f9356f475b0</span><span style=\"font-weight: bold\">&gt;</span>,\n",
       "                <span style=\"color: #008000; text-decoration-color: #008000\">'BooleanBlock'</span>: <span style=\"font-weight: bold\">&lt;</span><span style=\"color: #ff00ff; text-decoration-color: #ff00ff; font-weight: bold\">wagtail.core.blocks.field_block.BooleanBlock</span><span style=\"color: #000000; text-decoration-color: #000000\"> object at </span>\n",
       "<span style=\"color: #008080; text-decoration-color: #008080; font-weight: bold\">0x7f9356f476a0</span><span style=\"font-weight: bold\">&gt;</span>,\n",
       "                <span style=\"color: #008000; text-decoration-color: #008000\">'RichTextBlock'</span>: <span style=\"font-weight: bold\">&lt;</span><span style=\"color: #ff00ff; text-decoration-color: #ff00ff; font-weight: bold\">wagtail.core.blocks.field_block.RichTextBlock</span><span style=\"color: #000000; text-decoration-color: #000000\"> object at </span>\n",
       "<span style=\"color: #008080; text-decoration-color: #008080; font-weight: bold\">0x7f9356f47760</span><span style=\"font-weight: bold\">&gt;</span>,\n",
       "                <span style=\"color: #008000; text-decoration-color: #008000\">'cta_buttons'</span>: <span style=\"font-weight: bold\">{</span>\n",
       "                    <span style=\"color: #008000; text-decoration-color: #008000\">'cta_button'</span>: <span style=\"font-weight: bold\">{</span>\n",
       "                        <span style=\"color: #008000; text-decoration-color: #008000\">'PageChooserBlock'</span>: <span style=\"font-weight: bold\">&lt;</span><span style=\"color: #ff00ff; text-decoration-color: #ff00ff; font-weight: bold\">wagtail.core.blocks.field_block.PageChooserBlock</span>\n",
       "<span style=\"color: #000000; text-decoration-color: #000000\">object at </span><span style=\"color: #008080; text-decoration-color: #008080; font-weight: bold\">0x7f9356f457c0</span><span style=\"font-weight: bold\">&gt;</span>,\n",
       "                        <span style=\"color: #008000; text-decoration-color: #008000\">'DocumentChooserBlock'</span>: \n",
       "<span style=\"font-weight: bold\">&lt;</span><span style=\"color: #ff00ff; text-decoration-color: #ff00ff; font-weight: bold\">wagtail.documents.blocks.DocumentChooserBlock</span><span style=\"color: #000000; text-decoration-color: #000000\"> object at </span><span style=\"color: #008080; text-decoration-color: #008080; font-weight: bold\">0x7f9356f45850</span><span style=\"font-weight: bold\">&gt;</span>,\n",
       "                        <span style=\"color: #008000; text-decoration-color: #008000\">'URLBlock'</span>: <span style=\"font-weight: bold\">&lt;</span><span style=\"color: #ff00ff; text-decoration-color: #ff00ff; font-weight: bold\">wagtail.core.blocks.field_block.URLBlock</span><span style=\"color: #000000; text-decoration-color: #000000\"> object at </span>\n",
       "<span style=\"color: #008080; text-decoration-color: #008080; font-weight: bold\">0x7f9356f45880</span><span style=\"font-weight: bold\">&gt;</span>,\n",
       "                        <span style=\"color: #008000; text-decoration-color: #008000\">'CharBlock'</span>: <span style=\"font-weight: bold\">&lt;</span><span style=\"color: #ff00ff; text-decoration-color: #ff00ff; font-weight: bold\">wagtail.core.blocks.field_block.CharBlock</span><span style=\"color: #000000; text-decoration-color: #000000\"> object at </span>\n",
       "<span style=\"color: #008080; text-decoration-color: #008080; font-weight: bold\">0x7f9356f45a30</span><span style=\"font-weight: bold\">&gt;</span>,\n",
       "                        <span style=\"color: #008000; text-decoration-color: #008000\">'BooleanBlock'</span>: <span style=\"font-weight: bold\">&lt;</span><span style=\"color: #ff00ff; text-decoration-color: #ff00ff; font-weight: bold\">wagtail.core.blocks.field_block.BooleanBlock</span><span style=\"color: #000000; text-decoration-color: #000000\"> object </span>\n",
       "<span style=\"color: #000000; text-decoration-color: #000000\">at </span><span style=\"color: #008080; text-decoration-color: #008080; font-weight: bold\">0x7f9356f45b80</span><span style=\"font-weight: bold\">&gt;</span>\n",
       "                    <span style=\"font-weight: bold\">}</span>\n",
       "                <span style=\"font-weight: bold\">}</span>\n",
       "            <span style=\"font-weight: bold\">}</span>\n",
       "        <span style=\"font-weight: bold\">}</span>,\n",
       "        <span style=\"font-weight: bold\">{</span>\n",
       "            <span style=\"color: #008000; text-decoration-color: #008000\">'type'</span>: <span style=\"color: #008000; text-decoration-color: #008000\">'column_links'</span>,\n",
       "            <span style=\"color: #008000; text-decoration-color: #008000\">'value'</span>: <span style=\"font-weight: bold\">{</span>\n",
       "                <span style=\"color: #008000; text-decoration-color: #008000\">'CharBlock'</span>: <span style=\"font-weight: bold\">&lt;</span><span style=\"color: #ff00ff; text-decoration-color: #ff00ff; font-weight: bold\">wagtail.core.blocks.field_block.CharBlock</span><span style=\"color: #000000; text-decoration-color: #000000\"> object at </span>\n",
       "<span style=\"color: #008080; text-decoration-color: #008080; font-weight: bold\">0x7f9356f53d30</span><span style=\"font-weight: bold\">&gt;</span>,\n",
       "                <span style=\"color: #008000; text-decoration-color: #008000\">'links'</span>: <span style=\"font-weight: bold\">[</span>\n",
       "                    <span style=\"font-weight: bold\">{</span>\n",
       "                        <span style=\"color: #008000; text-decoration-color: #008000\">'type'</span>: <span style=\"color: #008000; text-decoration-color: #008000\">'simple_link'</span>,\n",
       "                        <span style=\"color: #008000; text-decoration-color: #008000\">'value'</span>: <span style=\"font-weight: bold\">{</span>\n",
       "                            <span style=\"color: #008000; text-decoration-color: #008000\">'CharBlock'</span>: <span style=\"font-weight: bold\">&lt;</span><span style=\"color: #ff00ff; text-decoration-color: #ff00ff; font-weight: bold\">wagtail.core.blocks.field_block.CharBlock</span><span style=\"color: #000000; text-decoration-color: #000000\"> object at</span>\n",
       "<span style=\"color: #008080; text-decoration-color: #008080; font-weight: bold\">0x7f9356f47220</span><span style=\"font-weight: bold\">&gt;</span>,\n",
       "                            <span style=\"color: #008000; text-decoration-color: #008000\">'URLBlock'</span>: <span style=\"font-weight: bold\">&lt;</span><span style=\"color: #ff00ff; text-decoration-color: #ff00ff; font-weight: bold\">wagtail.core.blocks.field_block.URLBlock</span><span style=\"color: #000000; text-decoration-color: #000000\"> object at </span>\n",
       "<span style=\"color: #008080; text-decoration-color: #008080; font-weight: bold\">0x7f9356f47370</span><span style=\"font-weight: bold\">&gt;</span>,\n",
       "                            <span style=\"color: #008000; text-decoration-color: #008000\">'ImageChooserBlock'</span>: <span style=\"font-weight: bold\">&lt;</span><span style=\"color: #ff00ff; text-decoration-color: #ff00ff; font-weight: bold\">wagtail.images.blocks.ImageChooserBlock</span><span style=\"color: #000000; text-decoration-color: #000000\"> </span>\n",
       "<span style=\"color: #000000; text-decoration-color: #000000\">object at </span><span style=\"color: #008080; text-decoration-color: #008080; font-weight: bold\">0x7f9356f474c0</span><span style=\"font-weight: bold\">&gt;</span>\n",
       "                        <span style=\"font-weight: bold\">}</span>\n",
       "                    <span style=\"font-weight: bold\">}</span>\n",
       "                <span style=\"font-weight: bold\">]</span>,\n",
       "                <span style=\"color: #008000; text-decoration-color: #008000\">'cta_button'</span>: <span style=\"font-weight: bold\">{</span>\n",
       "                    <span style=\"color: #008000; text-decoration-color: #008000\">'PageChooserBlock'</span>: <span style=\"font-weight: bold\">&lt;</span><span style=\"color: #ff00ff; text-decoration-color: #ff00ff; font-weight: bold\">wagtail.core.blocks.field_block.PageChooserBlock</span><span style=\"color: #000000; text-decoration-color: #000000\"> </span>\n",
       "<span style=\"color: #000000; text-decoration-color: #000000\">object at </span><span style=\"color: #008080; text-decoration-color: #008080; font-weight: bold\">0x7f9356f457c0</span><span style=\"font-weight: bold\">&gt;</span>,\n",
       "                    <span style=\"color: #008000; text-decoration-color: #008000\">'DocumentChooserBlock'</span>: <span style=\"font-weight: bold\">&lt;</span><span style=\"color: #ff00ff; text-decoration-color: #ff00ff; font-weight: bold\">wagtail.documents.blocks.DocumentChooserBlock</span><span style=\"color: #000000; text-decoration-color: #000000\"> </span>\n",
       "<span style=\"color: #000000; text-decoration-color: #000000\">object at </span><span style=\"color: #008080; text-decoration-color: #008080; font-weight: bold\">0x7f9356f45850</span><span style=\"font-weight: bold\">&gt;</span>,\n",
       "                    <span style=\"color: #008000; text-decoration-color: #008000\">'URLBlock'</span>: <span style=\"font-weight: bold\">&lt;</span><span style=\"color: #ff00ff; text-decoration-color: #ff00ff; font-weight: bold\">wagtail.core.blocks.field_block.URLBlock</span><span style=\"color: #000000; text-decoration-color: #000000\"> object at </span>\n",
       "<span style=\"color: #008080; text-decoration-color: #008080; font-weight: bold\">0x7f9356f45880</span><span style=\"font-weight: bold\">&gt;</span>,\n",
       "                    <span style=\"color: #008000; text-decoration-color: #008000\">'CharBlock'</span>: <span style=\"font-weight: bold\">&lt;</span><span style=\"color: #ff00ff; text-decoration-color: #ff00ff; font-weight: bold\">wagtail.core.blocks.field_block.CharBlock</span><span style=\"color: #000000; text-decoration-color: #000000\"> object at </span>\n",
       "<span style=\"color: #008080; text-decoration-color: #008080; font-weight: bold\">0x7f9356f45a30</span><span style=\"font-weight: bold\">&gt;</span>,\n",
       "                    <span style=\"color: #008000; text-decoration-color: #008000\">'BooleanBlock'</span>: <span style=\"font-weight: bold\">&lt;</span><span style=\"color: #ff00ff; text-decoration-color: #ff00ff; font-weight: bold\">wagtail.core.blocks.field_block.BooleanBlock</span><span style=\"color: #000000; text-decoration-color: #000000\"> object at </span>\n",
       "<span style=\"color: #008080; text-decoration-color: #008080; font-weight: bold\">0x7f9356f45b80</span><span style=\"font-weight: bold\">&gt;</span>\n",
       "                <span style=\"font-weight: bold\">}</span>\n",
       "            <span style=\"font-weight: bold\">}</span>\n",
       "        <span style=\"font-weight: bold\">}</span>\n",
       "    <span style=\"font-weight: bold\">]</span>\n",
       "<span style=\"font-weight: bold\">}</span>\n",
       "</pre>\n"
      ],
      "text/plain": [
       "\u001b[1m{\u001b[0m\n",
       "    \u001b[32m'ImageChooserBlock'\u001b[0m: \u001b[1m<\u001b[0m\u001b[1;95mwagtail.images.blocks.ImageChooserBlock\u001b[0m\u001b[39m object at \u001b[0m\u001b[1;36m0x7f9356f53f10\u001b[0m\u001b[1m>\u001b[0m,\n",
       "    \u001b[32m'DocumentChooserBlock'\u001b[0m: \u001b[1m<\u001b[0m\u001b[1;95mwagtail.documents.blocks.DocumentChooserBlock\u001b[0m\u001b[39m object at \u001b[0m\n",
       "\u001b[1;36m0x7f9356f442b0\u001b[0m\u001b[1m>\u001b[0m,\n",
       "    \u001b[32m'PageChooserBlock'\u001b[0m: \u001b[1m<\u001b[0m\u001b[1;95mwagtail.core.blocks.field_block.PageChooserBlock\u001b[0m\u001b[39m object at \u001b[0m\n",
       "\u001b[1;36m0x7f9356f44310\u001b[0m\u001b[1m>\u001b[0m,\n",
       "    \u001b[32m'ChoiceBlock'\u001b[0m: \u001b[1m<\u001b[0m\u001b[1;95mwagtail.core.blocks.field_block.ChoiceBlock\u001b[0m\u001b[39m object at \u001b[0m\u001b[1;36m0x7f9356f44490\u001b[0m\u001b[1m>\u001b[0m,\n",
       "    \u001b[32m'lists'\u001b[0m: \u001b[1m{\u001b[0m\u001b[32m'NoneType'\u001b[0m: \u001b[3;35mNone\u001b[0m\u001b[1m}\u001b[0m,\n",
       "    \u001b[32m'tiles'\u001b[0m: \u001b[1m[\u001b[0m\n",
       "        \u001b[1m{\u001b[0m\n",
       "            \u001b[32m'type'\u001b[0m: \u001b[32m'tile'\u001b[0m,\n",
       "            \u001b[32m'value'\u001b[0m: \u001b[1m{\u001b[0m\n",
       "                \u001b[32m'ImageChooserBlock'\u001b[0m: \u001b[1m<\u001b[0m\u001b[1;95mwagtail.images.blocks.ImageChooserBlock\u001b[0m\u001b[39m object at \u001b[0m\n",
       "\u001b[1;36m0x7f9356f53be0\u001b[0m\u001b[1m>\u001b[0m,\n",
       "                \u001b[32m'TextBlock'\u001b[0m: \u001b[1m<\u001b[0m\u001b[1;95mwagtail.core.blocks.field_block.TextBlock\u001b[0m\u001b[39m object at \u001b[0m\n",
       "\u001b[1;36m0x7f9356f53af0\u001b[0m\u001b[1m>\u001b[0m,\n",
       "                \u001b[32m'RichTextBlock'\u001b[0m: \u001b[1m<\u001b[0m\u001b[1;95mwagtail.core.blocks.field_block.RichTextBlock\u001b[0m\u001b[39m object at \u001b[0m\n",
       "\u001b[1;36m0x7f9356f53b80\u001b[0m\u001b[1m>\u001b[0m,\n",
       "                \u001b[32m'link'\u001b[0m: \u001b[1m{\u001b[0m\n",
       "                    \u001b[32m'PageChooserBlock'\u001b[0m: \u001b[1m<\u001b[0m\u001b[1;95mwagtail.core.blocks.field_block.PageChooserBlock\u001b[0m\u001b[39m \u001b[0m\n",
       "\u001b[39mobject at \u001b[0m\u001b[1;36m0x7f9356f457c0\u001b[0m\u001b[1m>\u001b[0m,\n",
       "                    \u001b[32m'DocumentChooserBlock'\u001b[0m: \u001b[1m<\u001b[0m\u001b[1;95mwagtail.documents.blocks.DocumentChooserBlock\u001b[0m\u001b[39m \u001b[0m\n",
       "\u001b[39mobject at \u001b[0m\u001b[1;36m0x7f9356f45850\u001b[0m\u001b[1m>\u001b[0m,\n",
       "                    \u001b[32m'URLBlock'\u001b[0m: \u001b[1m<\u001b[0m\u001b[1;95mwagtail.core.blocks.field_block.URLBlock\u001b[0m\u001b[39m object at \u001b[0m\n",
       "\u001b[1;36m0x7f9356f45880\u001b[0m\u001b[1m>\u001b[0m\n",
       "                \u001b[1m}\u001b[0m\n",
       "            \u001b[1m}\u001b[0m\n",
       "        \u001b[1m}\u001b[0m,\n",
       "        \u001b[1m{\u001b[0m\n",
       "            \u001b[32m'type'\u001b[0m: \u001b[32m'fooblock'\u001b[0m,\n",
       "            \u001b[32m'value'\u001b[0m: \u001b[1m{\u001b[0m\n",
       "                \u001b[32m'ImageChooserBlock'\u001b[0m: \u001b[1m<\u001b[0m\u001b[1;95mwagtail.images.blocks.ImageChooserBlock\u001b[0m\u001b[39m object at \u001b[0m\n",
       "\u001b[1;36m0x7f9356f47580\u001b[0m\u001b[1m>\u001b[0m,\n",
       "                \u001b[32m'RawHTMLBlock'\u001b[0m: \u001b[1m<\u001b[0m\u001b[1;95mwagtail.core.blocks.field_block.RawHTMLBlock\u001b[0m\u001b[39m object at \u001b[0m\n",
       "\u001b[1;36m0x7f9356f45be0\u001b[0m\u001b[1m>\u001b[0m,\n",
       "                \u001b[32m'CharBlock'\u001b[0m: \u001b[1m<\u001b[0m\u001b[1;95mwagtail.core.blocks.field_block.CharBlock\u001b[0m\u001b[39m object at \u001b[0m\n",
       "\u001b[1;36m0x7f9356f475b0\u001b[0m\u001b[1m>\u001b[0m,\n",
       "                \u001b[32m'BooleanBlock'\u001b[0m: \u001b[1m<\u001b[0m\u001b[1;95mwagtail.core.blocks.field_block.BooleanBlock\u001b[0m\u001b[39m object at \u001b[0m\n",
       "\u001b[1;36m0x7f9356f476a0\u001b[0m\u001b[1m>\u001b[0m,\n",
       "                \u001b[32m'RichTextBlock'\u001b[0m: \u001b[1m<\u001b[0m\u001b[1;95mwagtail.core.blocks.field_block.RichTextBlock\u001b[0m\u001b[39m object at \u001b[0m\n",
       "\u001b[1;36m0x7f9356f47760\u001b[0m\u001b[1m>\u001b[0m,\n",
       "                \u001b[32m'cta_buttons'\u001b[0m: \u001b[1m{\u001b[0m\n",
       "                    \u001b[32m'cta_button'\u001b[0m: \u001b[1m{\u001b[0m\n",
       "                        \u001b[32m'PageChooserBlock'\u001b[0m: \u001b[1m<\u001b[0m\u001b[1;95mwagtail.core.blocks.field_block.PageChooserBlock\u001b[0m\n",
       "\u001b[39mobject at \u001b[0m\u001b[1;36m0x7f9356f457c0\u001b[0m\u001b[1m>\u001b[0m,\n",
       "                        \u001b[32m'DocumentChooserBlock'\u001b[0m: \n",
       "\u001b[1m<\u001b[0m\u001b[1;95mwagtail.documents.blocks.DocumentChooserBlock\u001b[0m\u001b[39m object at \u001b[0m\u001b[1;36m0x7f9356f45850\u001b[0m\u001b[1m>\u001b[0m,\n",
       "                        \u001b[32m'URLBlock'\u001b[0m: \u001b[1m<\u001b[0m\u001b[1;95mwagtail.core.blocks.field_block.URLBlock\u001b[0m\u001b[39m object at \u001b[0m\n",
       "\u001b[1;36m0x7f9356f45880\u001b[0m\u001b[1m>\u001b[0m,\n",
       "                        \u001b[32m'CharBlock'\u001b[0m: \u001b[1m<\u001b[0m\u001b[1;95mwagtail.core.blocks.field_block.CharBlock\u001b[0m\u001b[39m object at \u001b[0m\n",
       "\u001b[1;36m0x7f9356f45a30\u001b[0m\u001b[1m>\u001b[0m,\n",
       "                        \u001b[32m'BooleanBlock'\u001b[0m: \u001b[1m<\u001b[0m\u001b[1;95mwagtail.core.blocks.field_block.BooleanBlock\u001b[0m\u001b[39m object \u001b[0m\n",
       "\u001b[39mat \u001b[0m\u001b[1;36m0x7f9356f45b80\u001b[0m\u001b[1m>\u001b[0m\n",
       "                    \u001b[1m}\u001b[0m\n",
       "                \u001b[1m}\u001b[0m\n",
       "            \u001b[1m}\u001b[0m\n",
       "        \u001b[1m}\u001b[0m,\n",
       "        \u001b[1m{\u001b[0m\n",
       "            \u001b[32m'type'\u001b[0m: \u001b[32m'column_links'\u001b[0m,\n",
       "            \u001b[32m'value'\u001b[0m: \u001b[1m{\u001b[0m\n",
       "                \u001b[32m'CharBlock'\u001b[0m: \u001b[1m<\u001b[0m\u001b[1;95mwagtail.core.blocks.field_block.CharBlock\u001b[0m\u001b[39m object at \u001b[0m\n",
       "\u001b[1;36m0x7f9356f53d30\u001b[0m\u001b[1m>\u001b[0m,\n",
       "                \u001b[32m'links'\u001b[0m: \u001b[1m[\u001b[0m\n",
       "                    \u001b[1m{\u001b[0m\n",
       "                        \u001b[32m'type'\u001b[0m: \u001b[32m'simple_link'\u001b[0m,\n",
       "                        \u001b[32m'value'\u001b[0m: \u001b[1m{\u001b[0m\n",
       "                            \u001b[32m'CharBlock'\u001b[0m: \u001b[1m<\u001b[0m\u001b[1;95mwagtail.core.blocks.field_block.CharBlock\u001b[0m\u001b[39m object at\u001b[0m\n",
       "\u001b[1;36m0x7f9356f47220\u001b[0m\u001b[1m>\u001b[0m,\n",
       "                            \u001b[32m'URLBlock'\u001b[0m: \u001b[1m<\u001b[0m\u001b[1;95mwagtail.core.blocks.field_block.URLBlock\u001b[0m\u001b[39m object at \u001b[0m\n",
       "\u001b[1;36m0x7f9356f47370\u001b[0m\u001b[1m>\u001b[0m,\n",
       "                            \u001b[32m'ImageChooserBlock'\u001b[0m: \u001b[1m<\u001b[0m\u001b[1;95mwagtail.images.blocks.ImageChooserBlock\u001b[0m\u001b[39m \u001b[0m\n",
       "\u001b[39mobject at \u001b[0m\u001b[1;36m0x7f9356f474c0\u001b[0m\u001b[1m>\u001b[0m\n",
       "                        \u001b[1m}\u001b[0m\n",
       "                    \u001b[1m}\u001b[0m\n",
       "                \u001b[1m]\u001b[0m,\n",
       "                \u001b[32m'cta_button'\u001b[0m: \u001b[1m{\u001b[0m\n",
       "                    \u001b[32m'PageChooserBlock'\u001b[0m: \u001b[1m<\u001b[0m\u001b[1;95mwagtail.core.blocks.field_block.PageChooserBlock\u001b[0m\u001b[39m \u001b[0m\n",
       "\u001b[39mobject at \u001b[0m\u001b[1;36m0x7f9356f457c0\u001b[0m\u001b[1m>\u001b[0m,\n",
       "                    \u001b[32m'DocumentChooserBlock'\u001b[0m: \u001b[1m<\u001b[0m\u001b[1;95mwagtail.documents.blocks.DocumentChooserBlock\u001b[0m\u001b[39m \u001b[0m\n",
       "\u001b[39mobject at \u001b[0m\u001b[1;36m0x7f9356f45850\u001b[0m\u001b[1m>\u001b[0m,\n",
       "                    \u001b[32m'URLBlock'\u001b[0m: \u001b[1m<\u001b[0m\u001b[1;95mwagtail.core.blocks.field_block.URLBlock\u001b[0m\u001b[39m object at \u001b[0m\n",
       "\u001b[1;36m0x7f9356f45880\u001b[0m\u001b[1m>\u001b[0m,\n",
       "                    \u001b[32m'CharBlock'\u001b[0m: \u001b[1m<\u001b[0m\u001b[1;95mwagtail.core.blocks.field_block.CharBlock\u001b[0m\u001b[39m object at \u001b[0m\n",
       "\u001b[1;36m0x7f9356f45a30\u001b[0m\u001b[1m>\u001b[0m,\n",
       "                    \u001b[32m'BooleanBlock'\u001b[0m: \u001b[1m<\u001b[0m\u001b[1;95mwagtail.core.blocks.field_block.BooleanBlock\u001b[0m\u001b[39m object at \u001b[0m\n",
       "\u001b[1;36m0x7f9356f45b80\u001b[0m\u001b[1m>\u001b[0m\n",
       "                \u001b[1m}\u001b[0m\n",
       "            \u001b[1m}\u001b[0m\n",
       "        \u001b[1m}\u001b[0m\n",
       "    \u001b[1m]\u001b[0m\n",
       "\u001b[1m}\u001b[0m\n"
      ]
     },
     "metadata": {},
     "output_type": "display_data"
    }
   ],
   "source": [
    "analyzer = block.BlockAnalyzer(blocks.ManualLinkTileBlock)\n",
    "print(analyzer.block_representation)"
   ]
  },
  {
   "cell_type": "code",
   "execution_count": null,
   "id": "17e738c6",
   "metadata": {},
   "outputs": [],
   "source": [
    "renderer = block.BlockRenderer(analyzer)"
   ]
  },
  {
   "cell_type": "code",
   "execution_count": 4,
   "id": "05d0cd2e",
   "metadata": {},
   "outputs": [
    {
     "ename": "NameError",
     "evalue": "name 'renderer' is not defined",
     "output_type": "error",
     "traceback": [
      "\u001b[0;31m---------------------------------------------------------------------------\u001b[0m",
      "\u001b[0;31mNameError\u001b[0m                                 Traceback (most recent call last)",
      "Input \u001b[0;32mIn [4]\u001b[0m, in \u001b[0;36m<cell line: 1>\u001b[0;34m()\u001b[0m\n\u001b[0;32m----> 1\u001b[0m \u001b[38;5;28mprint\u001b[39m(\u001b[43mrenderer\u001b[49m\u001b[38;5;241m.\u001b[39msimple_fake())\n",
      "\u001b[0;31mNameError\u001b[0m: name 'renderer' is not defined"
     ]
    }
   ],
   "source": [
    "print(renderer.simple_fake())"
   ]
  },
  {
   "cell_type": "code",
   "execution_count": 9,
   "id": "33dac98e",
   "metadata": {},
   "outputs": [
    {
     "data": {
      "text/html": [
       "<pre style=\"white-space:pre;overflow-x:auto;line-height:normal;font-family:Menlo,'DejaVu Sans Mono',consolas,'Courier New',monospace\"><span style=\"font-weight: bold\">{</span>\n",
       "    <span style=\"color: #008000; text-decoration-color: #008000\">'size'</span>: <span style=\"font-weight: bold\">&lt;</span><span style=\"color: #ff00ff; text-decoration-color: #ff00ff; font-weight: bold\">wagtail.core.blocks.field_block.ChoiceBlock</span><span style=\"color: #000000; text-decoration-color: #000000\"> object at </span><span style=\"color: #008080; text-decoration-color: #008080; font-weight: bold\">0x7fe33dfcbb20</span><span style=\"font-weight: bold\">&gt;</span>,\n",
       "    <span style=\"color: #008000; text-decoration-color: #008000\">'color_value'</span>: <span style=\"font-weight: bold\">&lt;</span><span style=\"color: #ff00ff; text-decoration-color: #ff00ff; font-weight: bold\">wagtail.core.blocks.field_block.ChoiceBlock</span><span style=\"color: #000000; text-decoration-color: #000000\"> object at </span><span style=\"color: #008080; text-decoration-color: #008080; font-weight: bold\">0x7fe33dfcb7f0</span><span style=\"font-weight: bold\">&gt;</span>,\n",
       "    <span style=\"color: #008000; text-decoration-color: #008000\">'heading'</span>: <span style=\"font-weight: bold\">&lt;</span><span style=\"color: #ff00ff; text-decoration-color: #ff00ff; font-weight: bold\">wagtail.core.blocks.field_block.CharBlock</span><span style=\"color: #000000; text-decoration-color: #000000\"> object at </span><span style=\"color: #008080; text-decoration-color: #008080; font-weight: bold\">0x7fe33dfcb5b0</span><span style=\"font-weight: bold\">&gt;</span>\n",
       "<span style=\"font-weight: bold\">}</span>\n",
       "</pre>\n"
      ],
      "text/plain": [
       "\u001b[1m{\u001b[0m\n",
       "    \u001b[32m'size'\u001b[0m: \u001b[1m<\u001b[0m\u001b[1;95mwagtail.core.blocks.field_block.ChoiceBlock\u001b[0m\u001b[39m object at \u001b[0m\u001b[1;36m0x7fe33dfcbb20\u001b[0m\u001b[1m>\u001b[0m,\n",
       "    \u001b[32m'color_value'\u001b[0m: \u001b[1m<\u001b[0m\u001b[1;95mwagtail.core.blocks.field_block.ChoiceBlock\u001b[0m\u001b[39m object at \u001b[0m\u001b[1;36m0x7fe33dfcb7f0\u001b[0m\u001b[1m>\u001b[0m,\n",
       "    \u001b[32m'heading'\u001b[0m: \u001b[1m<\u001b[0m\u001b[1;95mwagtail.core.blocks.field_block.CharBlock\u001b[0m\u001b[39m object at \u001b[0m\u001b[1;36m0x7fe33dfcb5b0\u001b[0m\u001b[1m>\u001b[0m\n",
       "\u001b[1m}\u001b[0m\n"
      ]
     },
     "metadata": {},
     "output_type": "display_data"
    }
   ],
   "source": [
    "print(simple_block.block_representation)"
   ]
  },
  {
   "cell_type": "code",
   "execution_count": 8,
   "id": "d417117c",
   "metadata": {},
   "outputs": [],
   "source": [
    "stream_block_analyzer.to_representation()"
   ]
  },
  {
   "cell_type": "code",
   "execution_count": 9,
   "id": "334aba93",
   "metadata": {},
   "outputs": [
    {
     "data": {
      "text/html": [
       "<pre style=\"white-space:pre;overflow-x:auto;line-height:normal;font-family:Menlo,'DejaVu Sans Mono',consolas,'Courier New',monospace\"><span style=\"font-weight: bold\">{</span>\n",
       "    <span style=\"color: #008000; text-decoration-color: #008000\">'title'</span>: <span style=\"color: #008000; text-decoration-color: #008000\">'&lt;insert-value&gt;'</span>,\n",
       "    <span style=\"color: #008000; text-decoration-color: #008000\">'links'</span>: <span style=\"font-weight: bold\">[</span>\n",
       "        <span style=\"font-weight: bold\">{</span>\n",
       "            <span style=\"color: #008000; text-decoration-color: #008000\">'type'</span>: <span style=\"color: #008000; text-decoration-color: #008000\">'simple_link'</span>,\n",
       "            <span style=\"color: #008000; text-decoration-color: #008000\">'value'</span>: <span style=\"font-weight: bold\">{</span>\n",
       "                <span style=\"color: #008000; text-decoration-color: #008000\">'display_text'</span>: <span style=\"color: #008000; text-decoration-color: #008000\">'&lt;insert-value&gt;'</span>,\n",
       "                <span style=\"color: #008000; text-decoration-color: #008000\">'link'</span>: <span style=\"color: #008000; text-decoration-color: #008000\">'&lt;insert-value&gt;'</span>,\n",
       "                <span style=\"color: #008000; text-decoration-color: #008000\">'image'</span>: <span style=\"color: #008000; text-decoration-color: #008000\">'&lt;insert-value&gt;'</span>\n",
       "            <span style=\"font-weight: bold\">}</span>\n",
       "        <span style=\"font-weight: bold\">}</span>\n",
       "    <span style=\"font-weight: bold\">]</span>,\n",
       "    <span style=\"color: #008000; text-decoration-color: #008000\">'cta_button'</span>: <span style=\"font-weight: bold\">{</span>\n",
       "        <span style=\"color: #008000; text-decoration-color: #008000\">'internal_link'</span>: <span style=\"color: #008000; text-decoration-color: #008000\">'&lt;insert-value&gt;'</span>,\n",
       "        <span style=\"color: #008000; text-decoration-color: #008000\">'document_link'</span>: <span style=\"color: #008000; text-decoration-color: #008000\">'&lt;insert-value&gt;'</span>,\n",
       "        <span style=\"color: #008000; text-decoration-color: #008000\">'external_link'</span>: <span style=\"color: #008000; text-decoration-color: #008000\">'&lt;insert-value&gt;'</span>,\n",
       "        <span style=\"color: #008000; text-decoration-color: #008000\">'display_text'</span>: <span style=\"color: #008000; text-decoration-color: #008000\">'&lt;insert-value&gt;'</span>,\n",
       "        <span style=\"color: #008000; text-decoration-color: #008000\">'styled_as_primary'</span>: <span style=\"color: #008000; text-decoration-color: #008000\">'&lt;insert-value&gt;'</span>\n",
       "    <span style=\"font-weight: bold\">}</span>\n",
       "<span style=\"font-weight: bold\">}</span>\n",
       "</pre>\n"
      ],
      "text/plain": [
       "\u001b[1m{\u001b[0m\n",
       "    \u001b[32m'title'\u001b[0m: \u001b[32m'\u001b[0m\u001b[32m<\u001b[0m\u001b[32minsert-value\u001b[0m\u001b[32m>\u001b[0m\u001b[32m'\u001b[0m,\n",
       "    \u001b[32m'links'\u001b[0m: \u001b[1m[\u001b[0m\n",
       "        \u001b[1m{\u001b[0m\n",
       "            \u001b[32m'type'\u001b[0m: \u001b[32m'simple_link'\u001b[0m,\n",
       "            \u001b[32m'value'\u001b[0m: \u001b[1m{\u001b[0m\n",
       "                \u001b[32m'display_text'\u001b[0m: \u001b[32m'\u001b[0m\u001b[32m<\u001b[0m\u001b[32minsert-value\u001b[0m\u001b[32m>\u001b[0m\u001b[32m'\u001b[0m,\n",
       "                \u001b[32m'link'\u001b[0m: \u001b[32m'\u001b[0m\u001b[32m<\u001b[0m\u001b[32minsert-value\u001b[0m\u001b[32m>\u001b[0m\u001b[32m'\u001b[0m,\n",
       "                \u001b[32m'image'\u001b[0m: \u001b[32m'\u001b[0m\u001b[32m<\u001b[0m\u001b[32minsert-value\u001b[0m\u001b[32m>\u001b[0m\u001b[32m'\u001b[0m\n",
       "            \u001b[1m}\u001b[0m\n",
       "        \u001b[1m}\u001b[0m\n",
       "    \u001b[1m]\u001b[0m,\n",
       "    \u001b[32m'cta_button'\u001b[0m: \u001b[1m{\u001b[0m\n",
       "        \u001b[32m'internal_link'\u001b[0m: \u001b[32m'\u001b[0m\u001b[32m<\u001b[0m\u001b[32minsert-value\u001b[0m\u001b[32m>\u001b[0m\u001b[32m'\u001b[0m,\n",
       "        \u001b[32m'document_link'\u001b[0m: \u001b[32m'\u001b[0m\u001b[32m<\u001b[0m\u001b[32minsert-value\u001b[0m\u001b[32m>\u001b[0m\u001b[32m'\u001b[0m,\n",
       "        \u001b[32m'external_link'\u001b[0m: \u001b[32m'\u001b[0m\u001b[32m<\u001b[0m\u001b[32minsert-value\u001b[0m\u001b[32m>\u001b[0m\u001b[32m'\u001b[0m,\n",
       "        \u001b[32m'display_text'\u001b[0m: \u001b[32m'\u001b[0m\u001b[32m<\u001b[0m\u001b[32minsert-value\u001b[0m\u001b[32m>\u001b[0m\u001b[32m'\u001b[0m,\n",
       "        \u001b[32m'styled_as_primary'\u001b[0m: \u001b[32m'\u001b[0m\u001b[32m<\u001b[0m\u001b[32minsert-value\u001b[0m\u001b[32m>\u001b[0m\u001b[32m'\u001b[0m\n",
       "    \u001b[1m}\u001b[0m\n",
       "\u001b[1m}\u001b[0m\n"
      ]
     },
     "metadata": {},
     "output_type": "display_data"
    }
   ],
   "source": [
    "print(stream_block_analyzer.block_representation)"
   ]
  },
  {
   "cell_type": "code",
   "execution_count": 10,
   "id": "e4de4ba3",
   "metadata": {},
   "outputs": [
    {
     "data": {
      "text/html": [
       "<pre style=\"white-space:pre;overflow-x:auto;line-height:normal;font-family:Menlo,'DejaVu Sans Mono',consolas,'Courier New',monospace\"><span style=\"font-weight: bold\">{</span>\n",
       "    <span style=\"color: #008000; text-decoration-color: #008000\">'block'</span>: <span style=\"font-weight: bold\">&lt;</span><span style=\"color: #ff00ff; text-decoration-color: #ff00ff; font-weight: bold\">class</span><span style=\"color: #000000; text-decoration-color: #000000\"> </span><span style=\"color: #008000; text-decoration-color: #008000\">'apps.preen_test.blocks.blocks.ColumnatedLinksBlock'</span><span style=\"font-weight: bold\">&gt;</span>,\n",
       "    <span style=\"color: #008000; text-decoration-color: #008000\">'block_representation'</span>: <span style=\"font-weight: bold\">{</span>\n",
       "        <span style=\"color: #008000; text-decoration-color: #008000\">'title'</span>: <span style=\"color: #008000; text-decoration-color: #008000\">'&lt;insert-value&gt;'</span>,\n",
       "        <span style=\"color: #008000; text-decoration-color: #008000\">'links'</span>: <span style=\"font-weight: bold\">[</span>\n",
       "            <span style=\"font-weight: bold\">{</span>\n",
       "                <span style=\"color: #008000; text-decoration-color: #008000\">'type'</span>: <span style=\"color: #008000; text-decoration-color: #008000\">'simple_link'</span>,\n",
       "                <span style=\"color: #008000; text-decoration-color: #008000\">'value'</span>: <span style=\"font-weight: bold\">{</span>\n",
       "                    <span style=\"color: #008000; text-decoration-color: #008000\">'display_text'</span>: <span style=\"color: #008000; text-decoration-color: #008000\">'&lt;insert-value&gt;'</span>,\n",
       "                    <span style=\"color: #008000; text-decoration-color: #008000\">'link'</span>: <span style=\"color: #008000; text-decoration-color: #008000\">'&lt;insert-value&gt;'</span>,\n",
       "                    <span style=\"color: #008000; text-decoration-color: #008000\">'image'</span>: <span style=\"color: #008000; text-decoration-color: #008000\">'&lt;insert-value&gt;'</span>\n",
       "                <span style=\"font-weight: bold\">}</span>\n",
       "            <span style=\"font-weight: bold\">}</span>\n",
       "        <span style=\"font-weight: bold\">]</span>,\n",
       "        <span style=\"color: #008000; text-decoration-color: #008000\">'cta_button'</span>: <span style=\"font-weight: bold\">{</span>\n",
       "            <span style=\"color: #008000; text-decoration-color: #008000\">'internal_link'</span>: <span style=\"color: #008000; text-decoration-color: #008000\">'&lt;insert-value&gt;'</span>,\n",
       "            <span style=\"color: #008000; text-decoration-color: #008000\">'document_link'</span>: <span style=\"color: #008000; text-decoration-color: #008000\">'&lt;insert-value&gt;'</span>,\n",
       "            <span style=\"color: #008000; text-decoration-color: #008000\">'external_link'</span>: <span style=\"color: #008000; text-decoration-color: #008000\">'&lt;insert-value&gt;'</span>,\n",
       "            <span style=\"color: #008000; text-decoration-color: #008000\">'display_text'</span>: <span style=\"color: #008000; text-decoration-color: #008000\">'&lt;insert-value&gt;'</span>,\n",
       "            <span style=\"color: #008000; text-decoration-color: #008000\">'styled_as_primary'</span>: <span style=\"color: #008000; text-decoration-color: #008000\">'&lt;insert-value&gt;'</span>\n",
       "        <span style=\"font-weight: bold\">}</span>\n",
       "    <span style=\"font-weight: bold\">}</span>,\n",
       "    <span style=\"color: #008000; text-decoration-color: #008000\">'list_blocks'</span>: <span style=\"font-weight: bold\">{}</span>,\n",
       "    <span style=\"color: #008000; text-decoration-color: #008000\">'stream_blocks'</span>: <span style=\"font-weight: bold\">{</span>\n",
       "        <span style=\"color: #008000; text-decoration-color: #008000\">'links'</span>: <span style=\"font-weight: bold\">&lt;</span><span style=\"color: #ff00ff; text-decoration-color: #ff00ff; font-weight: bold\">wagtail.core.blocks.stream_block.StreamBlock</span><span style=\"color: #000000; text-decoration-color: #000000\"> object at </span><span style=\"color: #008080; text-decoration-color: #008080; font-weight: bold\">0x7f714d8aec40</span><span style=\"font-weight: bold\">&gt;</span>\n",
       "    <span style=\"font-weight: bold\">}</span>,\n",
       "    <span style=\"color: #008000; text-decoration-color: #008000\">'other_complex'</span>: <span style=\"font-weight: bold\">{</span>\n",
       "        <span style=\"color: #008000; text-decoration-color: #008000\">'cta_button'</span>: <span style=\"font-weight: bold\">&lt;</span><span style=\"color: #ff00ff; text-decoration-color: #ff00ff; font-weight: bold\">apps.preen_test.blocks.blocks.CTAButtonBlock</span><span style=\"color: #000000; text-decoration-color: #000000\"> object at </span><span style=\"color: #008080; text-decoration-color: #008080; font-weight: bold\">0x7f714d8aeca0</span><span style=\"font-weight: bold\">&gt;</span>\n",
       "    <span style=\"font-weight: bold\">}</span>\n",
       "<span style=\"font-weight: bold\">}</span>\n",
       "</pre>\n"
      ],
      "text/plain": [
       "\u001b[1m{\u001b[0m\n",
       "    \u001b[32m'block'\u001b[0m: \u001b[1m<\u001b[0m\u001b[1;95mclass\u001b[0m\u001b[39m \u001b[0m\u001b[32m'apps.preen_test.blocks.blocks.ColumnatedLinksBlock'\u001b[0m\u001b[1m>\u001b[0m,\n",
       "    \u001b[32m'block_representation'\u001b[0m: \u001b[1m{\u001b[0m\n",
       "        \u001b[32m'title'\u001b[0m: \u001b[32m'\u001b[0m\u001b[32m<\u001b[0m\u001b[32minsert-value\u001b[0m\u001b[32m>\u001b[0m\u001b[32m'\u001b[0m,\n",
       "        \u001b[32m'links'\u001b[0m: \u001b[1m[\u001b[0m\n",
       "            \u001b[1m{\u001b[0m\n",
       "                \u001b[32m'type'\u001b[0m: \u001b[32m'simple_link'\u001b[0m,\n",
       "                \u001b[32m'value'\u001b[0m: \u001b[1m{\u001b[0m\n",
       "                    \u001b[32m'display_text'\u001b[0m: \u001b[32m'\u001b[0m\u001b[32m<\u001b[0m\u001b[32minsert-value\u001b[0m\u001b[32m>\u001b[0m\u001b[32m'\u001b[0m,\n",
       "                    \u001b[32m'link'\u001b[0m: \u001b[32m'\u001b[0m\u001b[32m<\u001b[0m\u001b[32minsert-value\u001b[0m\u001b[32m>\u001b[0m\u001b[32m'\u001b[0m,\n",
       "                    \u001b[32m'image'\u001b[0m: \u001b[32m'\u001b[0m\u001b[32m<\u001b[0m\u001b[32minsert-value\u001b[0m\u001b[32m>\u001b[0m\u001b[32m'\u001b[0m\n",
       "                \u001b[1m}\u001b[0m\n",
       "            \u001b[1m}\u001b[0m\n",
       "        \u001b[1m]\u001b[0m,\n",
       "        \u001b[32m'cta_button'\u001b[0m: \u001b[1m{\u001b[0m\n",
       "            \u001b[32m'internal_link'\u001b[0m: \u001b[32m'\u001b[0m\u001b[32m<\u001b[0m\u001b[32minsert-value\u001b[0m\u001b[32m>\u001b[0m\u001b[32m'\u001b[0m,\n",
       "            \u001b[32m'document_link'\u001b[0m: \u001b[32m'\u001b[0m\u001b[32m<\u001b[0m\u001b[32minsert-value\u001b[0m\u001b[32m>\u001b[0m\u001b[32m'\u001b[0m,\n",
       "            \u001b[32m'external_link'\u001b[0m: \u001b[32m'\u001b[0m\u001b[32m<\u001b[0m\u001b[32minsert-value\u001b[0m\u001b[32m>\u001b[0m\u001b[32m'\u001b[0m,\n",
       "            \u001b[32m'display_text'\u001b[0m: \u001b[32m'\u001b[0m\u001b[32m<\u001b[0m\u001b[32minsert-value\u001b[0m\u001b[32m>\u001b[0m\u001b[32m'\u001b[0m,\n",
       "            \u001b[32m'styled_as_primary'\u001b[0m: \u001b[32m'\u001b[0m\u001b[32m<\u001b[0m\u001b[32minsert-value\u001b[0m\u001b[32m>\u001b[0m\u001b[32m'\u001b[0m\n",
       "        \u001b[1m}\u001b[0m\n",
       "    \u001b[1m}\u001b[0m,\n",
       "    \u001b[32m'list_blocks'\u001b[0m: \u001b[1m{\u001b[0m\u001b[1m}\u001b[0m,\n",
       "    \u001b[32m'stream_blocks'\u001b[0m: \u001b[1m{\u001b[0m\n",
       "        \u001b[32m'links'\u001b[0m: \u001b[1m<\u001b[0m\u001b[1;95mwagtail.core.blocks.stream_block.StreamBlock\u001b[0m\u001b[39m object at \u001b[0m\u001b[1;36m0x7f714d8aec40\u001b[0m\u001b[1m>\u001b[0m\n",
       "    \u001b[1m}\u001b[0m,\n",
       "    \u001b[32m'other_complex'\u001b[0m: \u001b[1m{\u001b[0m\n",
       "        \u001b[32m'cta_button'\u001b[0m: \u001b[1m<\u001b[0m\u001b[1;95mapps.preen_test.blocks.blocks.CTAButtonBlock\u001b[0m\u001b[39m object at \u001b[0m\u001b[1;36m0x7f714d8aeca0\u001b[0m\u001b[1m>\u001b[0m\n",
       "    \u001b[1m}\u001b[0m\n",
       "\u001b[1m}\u001b[0m\n"
      ]
     },
     "metadata": {},
     "output_type": "display_data"
    }
   ],
   "source": [
    "print(stream_block_analyzer.__dict__)"
   ]
  },
  {
   "cell_type": "code",
   "execution_count": null,
   "id": "e9b7799c",
   "metadata": {},
   "outputs": [],
   "source": []
  }
 ],
 "metadata": {
  "kernelspec": {
   "display_name": "Django Shell-Plus",
   "language": "python",
   "name": "django_extensions"
  },
  "language_info": {
   "codemirror_mode": {
    "name": "ipython",
    "version": 3
   },
   "file_extension": ".py",
   "mimetype": "text/x-python",
   "name": "python",
   "nbconvert_exporter": "python",
   "pygments_lexer": "ipython3",
   "version": "3.9.6"
  }
 },
 "nbformat": 4,
 "nbformat_minor": 5
}
