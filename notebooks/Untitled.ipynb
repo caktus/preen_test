{
 "cells": [
  {
   "cell_type": "code",
   "execution_count": 1,
   "id": "587ca30f",
   "metadata": {},
   "outputs": [],
   "source": [
    "import os\n",
    "import django\n",
    "os.environ.setdefault('DJANGO_SETTINGS_MODULE', 'preen_test.settings')\n",
    "os.environ[\"DJANGO_ALLOW_ASYNC_UNSAFE\"] = \"true\"\n",
    "django.setup()"
   ]
  },
  {
   "cell_type": "code",
   "execution_count": 2,
   "id": "3882d209",
   "metadata": {},
   "outputs": [],
   "source": [
    "from rich.jupyter import print\n",
    "from preen import block\n",
    "from apps.preen_test.blocks import atoms, blocks"
   ]
  },
  {
   "cell_type": "code",
   "execution_count": 3,
   "id": "65b34005",
   "metadata": {},
   "outputs": [],
   "source": [
    "analyzer = block.BlockAnalyzer(blocks.ManualLinkTileBlock)"
   ]
  },
  {
   "cell_type": "code",
   "execution_count": 4,
   "id": "17e738c6",
   "metadata": {},
   "outputs": [],
   "source": [
    "renderer = block.BlockRenderer(analyzer)"
   ]
  },
  {
   "cell_type": "code",
   "execution_count": null,
   "id": "35790b8f",
   "metadata": {},
   "outputs": [
    {
     "name": "stdout",
     "output_type": "stream",
     "text": [
      "> /home/jgibson/local_dev/tsc/active_projects/preen/preen/block.py(109)simple_fake()\n",
      "    105                     print(f\"{subk}::{FAKE_BLOCK_MAP.get(subv.__class__.__name__)()}\")\n",
      "    106             else:\n",
      "    107                 import pdb;\n",
      "    108                 pdb.set_trace()\n",
      "--> 109                 print(f\"{k}::{FAKE_BLOCK_MAP.get(v.__class__.__name__)()}\")\n",
      "\n",
      "ipdb> k\n",
      "'image'\n",
      "ipdb> v\n",
      "<wagtail.images.blocks.ImageChooserBlock object at 0x7fd1fc8cd6a0>\n",
      "ipdb> v.__class__.__name__\n",
      "'ImageChooserBlock'\n",
      "ipdb> c\n",
      "image::EMPTY\n",
      "> /home/jgibson/local_dev/tsc/active_projects/preen/preen/block.py(108)simple_fake()\n",
      "    105                     print(f\"{subk}::{FAKE_BLOCK_MAP.get(subv.__class__.__name__)()}\")\n",
      "    106             else:\n",
      "    107                 import pdb;\n",
      "--> 108                 pdb.set_trace()\n",
      "    109                 print(f\"{k}::{FAKE_BLOCK_MAP.get(v.__class__.__name__)()}\")\n",
      "\n",
      "ipdb> k\n",
      "'document'\n",
      "ipdb> v\n",
      "<wagtail.documents.blocks.DocumentChooserBlock object at 0x7fd1fc8cd640>\n",
      "ipdb> c\n",
      "document::EMPTY\n",
      "> /home/jgibson/local_dev/tsc/active_projects/preen/preen/block.py(109)simple_fake()\n",
      "    105                     print(f\"{subk}::{FAKE_BLOCK_MAP.get(subv.__class__.__name__)()}\")\n",
      "    106             else:\n",
      "    107                 import pdb;\n",
      "    108                 pdb.set_trace()\n",
      "--> 109                 print(f\"{k}::{FAKE_BLOCK_MAP.get(v.__class__.__name__)()}\")\n",
      "\n",
      "ipdb> k\n",
      "'page'\n",
      "ipdb> v\n",
      "<wagtail.core.blocks.field_block.PageChooserBlock object at 0x7fd1fc8cd700>\n",
      "ipdb> c\n",
      "page::EMPTY\n",
      "> /home/jgibson/local_dev/tsc/active_projects/preen/preen/block.py(108)simple_fake()\n",
      "    105                     print(f\"{subk}::{FAKE_BLOCK_MAP.get(subv.__class__.__name__)()}\")\n",
      "    106             else:\n",
      "    107                 import pdb;\n",
      "--> 108                 pdb.set_trace()\n",
      "    109                 print(f\"{k}::{FAKE_BLOCK_MAP.get(v.__class__.__name__)()}\")\n",
      "\n",
      "ipdb> k\n",
      "'text'\n",
      "ipdb> v\n",
      "<wagtail.core.blocks.field_block.RichTextBlock object at 0x7fd1fc8cd880>\n",
      "ipdb> c\n",
      "text::Society development.\n",
      "> /home/jgibson/local_dev/tsc/active_projects/preen/preen/block.py(109)simple_fake()\n",
      "    105                     print(f\"{subk}::{FAKE_BLOCK_MAP.get(subv.__class__.__name__)()}\")\n",
      "    106             else:\n",
      "    107                 import pdb;\n",
      "    108                 pdb.set_trace()\n",
      "--> 109                 print(f\"{k}::{FAKE_BLOCK_MAP.get(v.__class__.__name__)()}\")\n",
      "\n",
      "ipdb> k\n",
      "'choices'\n",
      "ipdb> v\n",
      "<wagtail.core.blocks.field_block.ChoiceBlock object at 0x7fd1fc8cd8e0>\n",
      "ipdb> c\n",
      "choices::EMPTY\n",
      "lists::Recent establish.\n",
      "> /home/jgibson/local_dev/tsc/active_projects/preen/preen/block.py(108)simple_fake()\n",
      "    105                     print(f\"{subk}::{FAKE_BLOCK_MAP.get(subv.__class__.__name__)()}\")\n",
      "    106             else:\n",
      "    107                 import pdb;\n",
      "--> 108                 pdb.set_trace()\n",
      "    109                 print(f\"{k}::{FAKE_BLOCK_MAP.get(v.__class__.__name__)()}\")\n",
      "\n",
      "ipdb> k\n",
      "'lists'\n",
      "ipdb> v\n",
      "[<wagtail.core.blocks.field_block.RichTextBlock object at 0x7fd1fc8cdac0>]\n"
     ]
    }
   ],
   "source": [
    "renderer.simple_fake()"
   ]
  },
  {
   "cell_type": "code",
   "execution_count": 9,
   "id": "33dac98e",
   "metadata": {},
   "outputs": [
    {
     "data": {
      "text/html": [
       "<pre style=\"white-space:pre;overflow-x:auto;line-height:normal;font-family:Menlo,'DejaVu Sans Mono',consolas,'Courier New',monospace\"><span style=\"font-weight: bold\">{</span>\n",
       "    <span style=\"color: #008000; text-decoration-color: #008000\">'size'</span>: <span style=\"font-weight: bold\">&lt;</span><span style=\"color: #ff00ff; text-decoration-color: #ff00ff; font-weight: bold\">wagtail.core.blocks.field_block.ChoiceBlock</span><span style=\"color: #000000; text-decoration-color: #000000\"> object at </span><span style=\"color: #008080; text-decoration-color: #008080; font-weight: bold\">0x7fe33dfcbb20</span><span style=\"font-weight: bold\">&gt;</span>,\n",
       "    <span style=\"color: #008000; text-decoration-color: #008000\">'color_value'</span>: <span style=\"font-weight: bold\">&lt;</span><span style=\"color: #ff00ff; text-decoration-color: #ff00ff; font-weight: bold\">wagtail.core.blocks.field_block.ChoiceBlock</span><span style=\"color: #000000; text-decoration-color: #000000\"> object at </span><span style=\"color: #008080; text-decoration-color: #008080; font-weight: bold\">0x7fe33dfcb7f0</span><span style=\"font-weight: bold\">&gt;</span>,\n",
       "    <span style=\"color: #008000; text-decoration-color: #008000\">'heading'</span>: <span style=\"font-weight: bold\">&lt;</span><span style=\"color: #ff00ff; text-decoration-color: #ff00ff; font-weight: bold\">wagtail.core.blocks.field_block.CharBlock</span><span style=\"color: #000000; text-decoration-color: #000000\"> object at </span><span style=\"color: #008080; text-decoration-color: #008080; font-weight: bold\">0x7fe33dfcb5b0</span><span style=\"font-weight: bold\">&gt;</span>\n",
       "<span style=\"font-weight: bold\">}</span>\n",
       "</pre>\n"
      ],
      "text/plain": [
       "\u001b[1m{\u001b[0m\n",
       "    \u001b[32m'size'\u001b[0m: \u001b[1m<\u001b[0m\u001b[1;95mwagtail.core.blocks.field_block.ChoiceBlock\u001b[0m\u001b[39m object at \u001b[0m\u001b[1;36m0x7fe33dfcbb20\u001b[0m\u001b[1m>\u001b[0m,\n",
       "    \u001b[32m'color_value'\u001b[0m: \u001b[1m<\u001b[0m\u001b[1;95mwagtail.core.blocks.field_block.ChoiceBlock\u001b[0m\u001b[39m object at \u001b[0m\u001b[1;36m0x7fe33dfcb7f0\u001b[0m\u001b[1m>\u001b[0m,\n",
       "    \u001b[32m'heading'\u001b[0m: \u001b[1m<\u001b[0m\u001b[1;95mwagtail.core.blocks.field_block.CharBlock\u001b[0m\u001b[39m object at \u001b[0m\u001b[1;36m0x7fe33dfcb5b0\u001b[0m\u001b[1m>\u001b[0m\n",
       "\u001b[1m}\u001b[0m\n"
      ]
     },
     "metadata": {},
     "output_type": "display_data"
    }
   ],
   "source": [
    "print(simple_block.block_representation)"
   ]
  },
  {
   "cell_type": "code",
   "execution_count": 8,
   "id": "d417117c",
   "metadata": {},
   "outputs": [],
   "source": [
    "stream_block_analyzer.to_representation()"
   ]
  },
  {
   "cell_type": "code",
   "execution_count": 9,
   "id": "334aba93",
   "metadata": {},
   "outputs": [
    {
     "data": {
      "text/html": [
       "<pre style=\"white-space:pre;overflow-x:auto;line-height:normal;font-family:Menlo,'DejaVu Sans Mono',consolas,'Courier New',monospace\"><span style=\"font-weight: bold\">{</span>\n",
       "    <span style=\"color: #008000; text-decoration-color: #008000\">'title'</span>: <span style=\"color: #008000; text-decoration-color: #008000\">'&lt;insert-value&gt;'</span>,\n",
       "    <span style=\"color: #008000; text-decoration-color: #008000\">'links'</span>: <span style=\"font-weight: bold\">[</span>\n",
       "        <span style=\"font-weight: bold\">{</span>\n",
       "            <span style=\"color: #008000; text-decoration-color: #008000\">'type'</span>: <span style=\"color: #008000; text-decoration-color: #008000\">'simple_link'</span>,\n",
       "            <span style=\"color: #008000; text-decoration-color: #008000\">'value'</span>: <span style=\"font-weight: bold\">{</span>\n",
       "                <span style=\"color: #008000; text-decoration-color: #008000\">'display_text'</span>: <span style=\"color: #008000; text-decoration-color: #008000\">'&lt;insert-value&gt;'</span>,\n",
       "                <span style=\"color: #008000; text-decoration-color: #008000\">'link'</span>: <span style=\"color: #008000; text-decoration-color: #008000\">'&lt;insert-value&gt;'</span>,\n",
       "                <span style=\"color: #008000; text-decoration-color: #008000\">'image'</span>: <span style=\"color: #008000; text-decoration-color: #008000\">'&lt;insert-value&gt;'</span>\n",
       "            <span style=\"font-weight: bold\">}</span>\n",
       "        <span style=\"font-weight: bold\">}</span>\n",
       "    <span style=\"font-weight: bold\">]</span>,\n",
       "    <span style=\"color: #008000; text-decoration-color: #008000\">'cta_button'</span>: <span style=\"font-weight: bold\">{</span>\n",
       "        <span style=\"color: #008000; text-decoration-color: #008000\">'internal_link'</span>: <span style=\"color: #008000; text-decoration-color: #008000\">'&lt;insert-value&gt;'</span>,\n",
       "        <span style=\"color: #008000; text-decoration-color: #008000\">'document_link'</span>: <span style=\"color: #008000; text-decoration-color: #008000\">'&lt;insert-value&gt;'</span>,\n",
       "        <span style=\"color: #008000; text-decoration-color: #008000\">'external_link'</span>: <span style=\"color: #008000; text-decoration-color: #008000\">'&lt;insert-value&gt;'</span>,\n",
       "        <span style=\"color: #008000; text-decoration-color: #008000\">'display_text'</span>: <span style=\"color: #008000; text-decoration-color: #008000\">'&lt;insert-value&gt;'</span>,\n",
       "        <span style=\"color: #008000; text-decoration-color: #008000\">'styled_as_primary'</span>: <span style=\"color: #008000; text-decoration-color: #008000\">'&lt;insert-value&gt;'</span>\n",
       "    <span style=\"font-weight: bold\">}</span>\n",
       "<span style=\"font-weight: bold\">}</span>\n",
       "</pre>\n"
      ],
      "text/plain": [
       "\u001b[1m{\u001b[0m\n",
       "    \u001b[32m'title'\u001b[0m: \u001b[32m'\u001b[0m\u001b[32m<\u001b[0m\u001b[32minsert-value\u001b[0m\u001b[32m>\u001b[0m\u001b[32m'\u001b[0m,\n",
       "    \u001b[32m'links'\u001b[0m: \u001b[1m[\u001b[0m\n",
       "        \u001b[1m{\u001b[0m\n",
       "            \u001b[32m'type'\u001b[0m: \u001b[32m'simple_link'\u001b[0m,\n",
       "            \u001b[32m'value'\u001b[0m: \u001b[1m{\u001b[0m\n",
       "                \u001b[32m'display_text'\u001b[0m: \u001b[32m'\u001b[0m\u001b[32m<\u001b[0m\u001b[32minsert-value\u001b[0m\u001b[32m>\u001b[0m\u001b[32m'\u001b[0m,\n",
       "                \u001b[32m'link'\u001b[0m: \u001b[32m'\u001b[0m\u001b[32m<\u001b[0m\u001b[32minsert-value\u001b[0m\u001b[32m>\u001b[0m\u001b[32m'\u001b[0m,\n",
       "                \u001b[32m'image'\u001b[0m: \u001b[32m'\u001b[0m\u001b[32m<\u001b[0m\u001b[32minsert-value\u001b[0m\u001b[32m>\u001b[0m\u001b[32m'\u001b[0m\n",
       "            \u001b[1m}\u001b[0m\n",
       "        \u001b[1m}\u001b[0m\n",
       "    \u001b[1m]\u001b[0m,\n",
       "    \u001b[32m'cta_button'\u001b[0m: \u001b[1m{\u001b[0m\n",
       "        \u001b[32m'internal_link'\u001b[0m: \u001b[32m'\u001b[0m\u001b[32m<\u001b[0m\u001b[32minsert-value\u001b[0m\u001b[32m>\u001b[0m\u001b[32m'\u001b[0m,\n",
       "        \u001b[32m'document_link'\u001b[0m: \u001b[32m'\u001b[0m\u001b[32m<\u001b[0m\u001b[32minsert-value\u001b[0m\u001b[32m>\u001b[0m\u001b[32m'\u001b[0m,\n",
       "        \u001b[32m'external_link'\u001b[0m: \u001b[32m'\u001b[0m\u001b[32m<\u001b[0m\u001b[32minsert-value\u001b[0m\u001b[32m>\u001b[0m\u001b[32m'\u001b[0m,\n",
       "        \u001b[32m'display_text'\u001b[0m: \u001b[32m'\u001b[0m\u001b[32m<\u001b[0m\u001b[32minsert-value\u001b[0m\u001b[32m>\u001b[0m\u001b[32m'\u001b[0m,\n",
       "        \u001b[32m'styled_as_primary'\u001b[0m: \u001b[32m'\u001b[0m\u001b[32m<\u001b[0m\u001b[32minsert-value\u001b[0m\u001b[32m>\u001b[0m\u001b[32m'\u001b[0m\n",
       "    \u001b[1m}\u001b[0m\n",
       "\u001b[1m}\u001b[0m\n"
      ]
     },
     "metadata": {},
     "output_type": "display_data"
    }
   ],
   "source": [
    "print(stream_block_analyzer.block_representation)"
   ]
  },
  {
   "cell_type": "code",
   "execution_count": 10,
   "id": "e4de4ba3",
   "metadata": {},
   "outputs": [
    {
     "data": {
      "text/html": [
       "<pre style=\"white-space:pre;overflow-x:auto;line-height:normal;font-family:Menlo,'DejaVu Sans Mono',consolas,'Courier New',monospace\"><span style=\"font-weight: bold\">{</span>\n",
       "    <span style=\"color: #008000; text-decoration-color: #008000\">'block'</span>: <span style=\"font-weight: bold\">&lt;</span><span style=\"color: #ff00ff; text-decoration-color: #ff00ff; font-weight: bold\">class</span><span style=\"color: #000000; text-decoration-color: #000000\"> </span><span style=\"color: #008000; text-decoration-color: #008000\">'apps.preen_test.blocks.blocks.ColumnatedLinksBlock'</span><span style=\"font-weight: bold\">&gt;</span>,\n",
       "    <span style=\"color: #008000; text-decoration-color: #008000\">'block_representation'</span>: <span style=\"font-weight: bold\">{</span>\n",
       "        <span style=\"color: #008000; text-decoration-color: #008000\">'title'</span>: <span style=\"color: #008000; text-decoration-color: #008000\">'&lt;insert-value&gt;'</span>,\n",
       "        <span style=\"color: #008000; text-decoration-color: #008000\">'links'</span>: <span style=\"font-weight: bold\">[</span>\n",
       "            <span style=\"font-weight: bold\">{</span>\n",
       "                <span style=\"color: #008000; text-decoration-color: #008000\">'type'</span>: <span style=\"color: #008000; text-decoration-color: #008000\">'simple_link'</span>,\n",
       "                <span style=\"color: #008000; text-decoration-color: #008000\">'value'</span>: <span style=\"font-weight: bold\">{</span>\n",
       "                    <span style=\"color: #008000; text-decoration-color: #008000\">'display_text'</span>: <span style=\"color: #008000; text-decoration-color: #008000\">'&lt;insert-value&gt;'</span>,\n",
       "                    <span style=\"color: #008000; text-decoration-color: #008000\">'link'</span>: <span style=\"color: #008000; text-decoration-color: #008000\">'&lt;insert-value&gt;'</span>,\n",
       "                    <span style=\"color: #008000; text-decoration-color: #008000\">'image'</span>: <span style=\"color: #008000; text-decoration-color: #008000\">'&lt;insert-value&gt;'</span>\n",
       "                <span style=\"font-weight: bold\">}</span>\n",
       "            <span style=\"font-weight: bold\">}</span>\n",
       "        <span style=\"font-weight: bold\">]</span>,\n",
       "        <span style=\"color: #008000; text-decoration-color: #008000\">'cta_button'</span>: <span style=\"font-weight: bold\">{</span>\n",
       "            <span style=\"color: #008000; text-decoration-color: #008000\">'internal_link'</span>: <span style=\"color: #008000; text-decoration-color: #008000\">'&lt;insert-value&gt;'</span>,\n",
       "            <span style=\"color: #008000; text-decoration-color: #008000\">'document_link'</span>: <span style=\"color: #008000; text-decoration-color: #008000\">'&lt;insert-value&gt;'</span>,\n",
       "            <span style=\"color: #008000; text-decoration-color: #008000\">'external_link'</span>: <span style=\"color: #008000; text-decoration-color: #008000\">'&lt;insert-value&gt;'</span>,\n",
       "            <span style=\"color: #008000; text-decoration-color: #008000\">'display_text'</span>: <span style=\"color: #008000; text-decoration-color: #008000\">'&lt;insert-value&gt;'</span>,\n",
       "            <span style=\"color: #008000; text-decoration-color: #008000\">'styled_as_primary'</span>: <span style=\"color: #008000; text-decoration-color: #008000\">'&lt;insert-value&gt;'</span>\n",
       "        <span style=\"font-weight: bold\">}</span>\n",
       "    <span style=\"font-weight: bold\">}</span>,\n",
       "    <span style=\"color: #008000; text-decoration-color: #008000\">'list_blocks'</span>: <span style=\"font-weight: bold\">{}</span>,\n",
       "    <span style=\"color: #008000; text-decoration-color: #008000\">'stream_blocks'</span>: <span style=\"font-weight: bold\">{</span>\n",
       "        <span style=\"color: #008000; text-decoration-color: #008000\">'links'</span>: <span style=\"font-weight: bold\">&lt;</span><span style=\"color: #ff00ff; text-decoration-color: #ff00ff; font-weight: bold\">wagtail.core.blocks.stream_block.StreamBlock</span><span style=\"color: #000000; text-decoration-color: #000000\"> object at </span><span style=\"color: #008080; text-decoration-color: #008080; font-weight: bold\">0x7f714d8aec40</span><span style=\"font-weight: bold\">&gt;</span>\n",
       "    <span style=\"font-weight: bold\">}</span>,\n",
       "    <span style=\"color: #008000; text-decoration-color: #008000\">'other_complex'</span>: <span style=\"font-weight: bold\">{</span>\n",
       "        <span style=\"color: #008000; text-decoration-color: #008000\">'cta_button'</span>: <span style=\"font-weight: bold\">&lt;</span><span style=\"color: #ff00ff; text-decoration-color: #ff00ff; font-weight: bold\">apps.preen_test.blocks.blocks.CTAButtonBlock</span><span style=\"color: #000000; text-decoration-color: #000000\"> object at </span><span style=\"color: #008080; text-decoration-color: #008080; font-weight: bold\">0x7f714d8aeca0</span><span style=\"font-weight: bold\">&gt;</span>\n",
       "    <span style=\"font-weight: bold\">}</span>\n",
       "<span style=\"font-weight: bold\">}</span>\n",
       "</pre>\n"
      ],
      "text/plain": [
       "\u001b[1m{\u001b[0m\n",
       "    \u001b[32m'block'\u001b[0m: \u001b[1m<\u001b[0m\u001b[1;95mclass\u001b[0m\u001b[39m \u001b[0m\u001b[32m'apps.preen_test.blocks.blocks.ColumnatedLinksBlock'\u001b[0m\u001b[1m>\u001b[0m,\n",
       "    \u001b[32m'block_representation'\u001b[0m: \u001b[1m{\u001b[0m\n",
       "        \u001b[32m'title'\u001b[0m: \u001b[32m'\u001b[0m\u001b[32m<\u001b[0m\u001b[32minsert-value\u001b[0m\u001b[32m>\u001b[0m\u001b[32m'\u001b[0m,\n",
       "        \u001b[32m'links'\u001b[0m: \u001b[1m[\u001b[0m\n",
       "            \u001b[1m{\u001b[0m\n",
       "                \u001b[32m'type'\u001b[0m: \u001b[32m'simple_link'\u001b[0m,\n",
       "                \u001b[32m'value'\u001b[0m: \u001b[1m{\u001b[0m\n",
       "                    \u001b[32m'display_text'\u001b[0m: \u001b[32m'\u001b[0m\u001b[32m<\u001b[0m\u001b[32minsert-value\u001b[0m\u001b[32m>\u001b[0m\u001b[32m'\u001b[0m,\n",
       "                    \u001b[32m'link'\u001b[0m: \u001b[32m'\u001b[0m\u001b[32m<\u001b[0m\u001b[32minsert-value\u001b[0m\u001b[32m>\u001b[0m\u001b[32m'\u001b[0m,\n",
       "                    \u001b[32m'image'\u001b[0m: \u001b[32m'\u001b[0m\u001b[32m<\u001b[0m\u001b[32minsert-value\u001b[0m\u001b[32m>\u001b[0m\u001b[32m'\u001b[0m\n",
       "                \u001b[1m}\u001b[0m\n",
       "            \u001b[1m}\u001b[0m\n",
       "        \u001b[1m]\u001b[0m,\n",
       "        \u001b[32m'cta_button'\u001b[0m: \u001b[1m{\u001b[0m\n",
       "            \u001b[32m'internal_link'\u001b[0m: \u001b[32m'\u001b[0m\u001b[32m<\u001b[0m\u001b[32minsert-value\u001b[0m\u001b[32m>\u001b[0m\u001b[32m'\u001b[0m,\n",
       "            \u001b[32m'document_link'\u001b[0m: \u001b[32m'\u001b[0m\u001b[32m<\u001b[0m\u001b[32minsert-value\u001b[0m\u001b[32m>\u001b[0m\u001b[32m'\u001b[0m,\n",
       "            \u001b[32m'external_link'\u001b[0m: \u001b[32m'\u001b[0m\u001b[32m<\u001b[0m\u001b[32minsert-value\u001b[0m\u001b[32m>\u001b[0m\u001b[32m'\u001b[0m,\n",
       "            \u001b[32m'display_text'\u001b[0m: \u001b[32m'\u001b[0m\u001b[32m<\u001b[0m\u001b[32minsert-value\u001b[0m\u001b[32m>\u001b[0m\u001b[32m'\u001b[0m,\n",
       "            \u001b[32m'styled_as_primary'\u001b[0m: \u001b[32m'\u001b[0m\u001b[32m<\u001b[0m\u001b[32minsert-value\u001b[0m\u001b[32m>\u001b[0m\u001b[32m'\u001b[0m\n",
       "        \u001b[1m}\u001b[0m\n",
       "    \u001b[1m}\u001b[0m,\n",
       "    \u001b[32m'list_blocks'\u001b[0m: \u001b[1m{\u001b[0m\u001b[1m}\u001b[0m,\n",
       "    \u001b[32m'stream_blocks'\u001b[0m: \u001b[1m{\u001b[0m\n",
       "        \u001b[32m'links'\u001b[0m: \u001b[1m<\u001b[0m\u001b[1;95mwagtail.core.blocks.stream_block.StreamBlock\u001b[0m\u001b[39m object at \u001b[0m\u001b[1;36m0x7f714d8aec40\u001b[0m\u001b[1m>\u001b[0m\n",
       "    \u001b[1m}\u001b[0m,\n",
       "    \u001b[32m'other_complex'\u001b[0m: \u001b[1m{\u001b[0m\n",
       "        \u001b[32m'cta_button'\u001b[0m: \u001b[1m<\u001b[0m\u001b[1;95mapps.preen_test.blocks.blocks.CTAButtonBlock\u001b[0m\u001b[39m object at \u001b[0m\u001b[1;36m0x7f714d8aeca0\u001b[0m\u001b[1m>\u001b[0m\n",
       "    \u001b[1m}\u001b[0m\n",
       "\u001b[1m}\u001b[0m\n"
      ]
     },
     "metadata": {},
     "output_type": "display_data"
    }
   ],
   "source": [
    "print(stream_block_analyzer.__dict__)"
   ]
  },
  {
   "cell_type": "code",
   "execution_count": null,
   "id": "97b2b91c",
   "metadata": {},
   "outputs": [],
   "source": []
  }
 ],
 "metadata": {
  "kernelspec": {
   "display_name": "Django Shell-Plus",
   "language": "python",
   "name": "django_extensions"
  },
  "language_info": {
   "codemirror_mode": {
    "name": "ipython",
    "version": 3
   },
   "file_extension": ".py",
   "mimetype": "text/x-python",
   "name": "python",
   "nbconvert_exporter": "python",
   "pygments_lexer": "ipython3",
   "version": "3.9.6"
  }
 },
 "nbformat": 4,
 "nbformat_minor": 5
}
