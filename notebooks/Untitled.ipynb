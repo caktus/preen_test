{
 "cells": [
  {
   "cell_type": "code",
   "execution_count": 1,
   "id": "587ca30f",
   "metadata": {},
   "outputs": [],
   "source": [
    "    import os\n",
    "    import django\n",
    "    os.environ.setdefault('DJANGO_SETTINGS_MODULE', 'preen_test.settings')\n",
    "    os.environ[\"DJANGO_ALLOW_ASYNC_UNSAFE\"] = \"true\"\n",
    "    django.setup()"
   ]
  },
  {
   "cell_type": "code",
   "execution_count": 2,
   "id": "3882d209",
   "metadata": {},
   "outputs": [],
   "source": [
    "from preen import block\n",
    "from apps.preen_test.blocks import atoms, blocks"
   ]
  },
  {
   "cell_type": "code",
   "execution_count": 3,
   "id": "65b34005",
   "metadata": {},
   "outputs": [],
   "source": [
    "analyzer = block.Analyzer(blocks.ManualLinkTileBlock)"
   ]
  },
  {
   "cell_type": "code",
   "execution_count": 4,
   "id": "b274d744",
   "metadata": {},
   "outputs": [],
   "source": [
    "analyzer.to_representation()"
   ]
  },
  {
   "cell_type": "code",
   "execution_count": 5,
   "id": "17e738c6",
   "metadata": {},
   "outputs": [
    {
     "data": {
      "text/plain": [
       "{'tiles': [{'type': 'fooblock',\n",
       "   'value': {'tile': {'image': '<insert-value>',\n",
       "     'title': '<insert-value>',\n",
       "     'description': '<insert-value>',\n",
       "     'link': {'internal_link': '<insert-value>',\n",
       "      'document_link': '<insert-value>',\n",
       "      'external_link': '<insert-value>'}},\n",
       "    'fooblock': {'image': '<insert-value>',\n",
       "     'video_code': '<insert-value>',\n",
       "     'heading': '<insert-value>',\n",
       "     'heading_as_h1': '<insert-value>',\n",
       "     'sub_heading': '<insert-value>',\n",
       "     'cta_buttons': {'cta_button': {'internal_link': '<insert-value>',\n",
       "       'document_link': '<insert-value>',\n",
       "       'external_link': '<insert-value>',\n",
       "       'display_text': '<insert-value>',\n",
       "       'styled_as_primary': '<insert-value>'}}}}}]}"
      ]
     },
     "execution_count": 5,
     "metadata": {},
     "output_type": "execute_result"
    }
   ],
   "source": [
    "analyzer.block_representation"
   ]
  },
  {
   "cell_type": "code",
   "execution_count": 6,
   "id": "33dac98e",
   "metadata": {},
   "outputs": [],
   "source": [
    "stream_block_analyzer = block.Analyzer(blocks.ColumnatedLinksBlock)"
   ]
  },
  {
   "cell_type": "code",
   "execution_count": 7,
   "id": "d417117c",
   "metadata": {},
   "outputs": [],
   "source": [
    "stream_block_analyzer.to_representation()"
   ]
  },
  {
   "cell_type": "code",
   "execution_count": 8,
   "id": "334aba93",
   "metadata": {},
   "outputs": [
    {
     "data": {
      "text/plain": [
       "{'title': '<insert-value>',\n",
       " 'links': [{'type': 'simple_link',\n",
       "   'value': {'simple_link': {'display_text': '<insert-value>',\n",
       "     'link': '<insert-value>',\n",
       "     'image': '<insert-value>'}}}],\n",
       " 'cta_button': {'internal_link': '<insert-value>',\n",
       "  'document_link': '<insert-value>',\n",
       "  'external_link': '<insert-value>',\n",
       "  'display_text': '<insert-value>',\n",
       "  'styled_as_primary': '<insert-value>'}}"
      ]
     },
     "execution_count": 8,
     "metadata": {},
     "output_type": "execute_result"
    }
   ],
   "source": [
    "stream_block_analyzer.block_representation"
   ]
  },
  {
   "cell_type": "code",
   "execution_count": 9,
   "id": "e4de4ba3",
   "metadata": {},
   "outputs": [
    {
     "data": {
      "text/plain": [
       "apps.preen_test.blocks.blocks.ColumnatedLinksBlock"
      ]
     },
     "execution_count": 9,
     "metadata": {},
     "output_type": "execute_result"
    }
   ],
   "source": [
    "stream_block_analyzer.block"
   ]
  },
  {
   "cell_type": "code",
   "execution_count": null,
   "id": "ce360a58",
   "metadata": {},
   "outputs": [],
   "source": []
  }
 ],
 "metadata": {
  "kernelspec": {
   "display_name": "Django Shell-Plus",
   "language": "python",
   "name": "django_extensions"
  },
  "language_info": {
   "codemirror_mode": {
    "name": "ipython",
    "version": 3
   },
   "file_extension": ".py",
   "mimetype": "text/x-python",
   "name": "python",
   "nbconvert_exporter": "python",
   "pygments_lexer": "ipython3",
   "version": "3.9.6"
  }
 },
 "nbformat": 4,
 "nbformat_minor": 5
}
