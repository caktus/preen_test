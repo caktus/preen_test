{
 "cells": [
  {
   "cell_type": "code",
   "execution_count": 2,
   "id": "e1fd7d8b",
   "metadata": {},
   "outputs": [],
   "source": [
    "    import os\n",
    "    import django\n",
    "    os.environ.setdefault('DJANGO_SETTINGS_MODULE', 'preen_test.settings')\n",
    "    os.environ[\"DJANGO_ALLOW_ASYNC_UNSAFE\"] = \"true\"\n",
    "    django.setup()"
   ]
  },
  {
   "cell_type": "code",
   "execution_count": 3,
   "id": "6bc71d28",
   "metadata": {},
   "outputs": [],
   "source": [
    "from preen import block\n",
    "from apps.preen_test.blocks import atoms, blocks"
   ]
  },
  {
   "cell_type": "code",
   "execution_count": 4,
   "id": "6dd9bfec",
   "metadata": {},
   "outputs": [],
   "source": [
    "analyzer = block.Analyzer(blocks.TwoColumn)"
   ]
  },
  {
   "cell_type": "code",
   "execution_count": 5,
   "id": "0e8efaf0",
   "metadata": {},
   "outputs": [],
   "source": [
    "analyzer.analyze_block()"
   ]
  },
  {
   "cell_type": "code",
   "execution_count": 6,
   "id": "eec4746c",
   "metadata": {},
   "outputs": [
    {
     "data": {
      "text/plain": [
       "{'video_code': <wagtail.blocks.field_block.RawHTMLBlock at 0x7f9c7a525b20>,\n",
       " 'image': <wagtail.images.blocks.ImageChooserBlock at 0x7f9c525cabb0>,\n",
       " 'text_on_left': <wagtail.blocks.field_block.BooleanBlock at 0x7f9c51c98ca0>,\n",
       " 'heading': <wagtail.blocks.field_block.CharBlock at 0x7f9c51c98e50>,\n",
       " 'use_as_h1': <wagtail.blocks.field_block.BooleanBlock at 0x7f9c51cb00a0>,\n",
       " 'sub_heading': <wagtail.blocks.field_block.RichTextBlock at 0x7f9c51cb0070>,\n",
       " 'cta_buttons': <wagtail.blocks.list_block.ListBlock at 0x7f9c51cb0250>}"
      ]
     },
     "execution_count": 6,
     "metadata": {},
     "output_type": "execute_result"
    }
   ],
   "source": [
    "analyzer.block_representation"
   ]
  },
  {
   "cell_type": "code",
   "execution_count": 28,
   "id": "0dd548f8",
   "metadata": {},
   "outputs": [
    {
     "data": {
      "text/plain": [
       "7"
      ]
     },
     "execution_count": 28,
     "metadata": {},
     "output_type": "execute_result"
    }
   ],
   "source": [
    "len(blocks.TwoColumn.base_blocks)"
   ]
  },
  {
   "cell_type": "code",
   "execution_count": 33,
   "id": "cf37b9eb",
   "metadata": {},
   "outputs": [
    {
     "name": "stdout",
     "output_type": "stream",
     "text": [
      "<wagtail.blocks.field_block.RawHTMLBlock object at 0x7f82f9459a90>\n",
      "<wagtail.images.blocks.ImageChooserBlock object at 0x7f82f9469a60>\n",
      "<wagtail.blocks.field_block.BooleanBlock object at 0x7f82f9469ac0>\n",
      "<wagtail.blocks.field_block.CharBlock object at 0x7f82f9469c70>\n",
      "<wagtail.blocks.field_block.BooleanBlock object at 0x7f82f9469fd0>\n",
      "<wagtail.blocks.field_block.RichTextBlock object at 0x7f82f9469fa0>\n",
      "<wagtail.blocks.list_block.ListBlock object at 0x7f82f946d190>\n"
     ]
    }
   ],
   "source": [
    "for block in blocks.TwoColumn.base_blocks:\n",
    "    print(blocks.TwoColumn.base_blocks.get(block))"
   ]
  },
  {
   "cell_type": "code",
   "execution_count": null,
   "id": "8cf9eb1d",
   "metadata": {},
   "outputs": [],
   "source": []
  }
 ],
 "metadata": {
  "kernelspec": {
   "display_name": "Django Shell-Plus",
   "language": "python",
   "name": "django_extensions"
  },
  "language_info": {
   "codemirror_mode": {
    "name": "ipython",
    "version": 3
   },
   "file_extension": ".py",
   "mimetype": "text/x-python",
   "name": "python",
   "nbconvert_exporter": "python",
   "pygments_lexer": "ipython3",
   "version": "3.9.6"
  }
 },
 "nbformat": 4,
 "nbformat_minor": 5
}
